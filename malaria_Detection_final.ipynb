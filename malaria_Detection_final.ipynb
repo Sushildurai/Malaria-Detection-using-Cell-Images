{
  "nbformat": 4,
  "nbformat_minor": 0,
  "metadata": {
    "kernelspec": {
      "name": "python3",
      "display_name": "Python 3",
      "language": "python"
    },
    "language_info": {
      "name": "python",
      "version": "3.7.6",
      "mimetype": "text/x-python",
      "codemirror_mode": {
        "name": "ipython",
        "version": 3
      },
      "pygments_lexer": "ipython3",
      "nbconvert_exporter": "python",
      "file_extension": ".py"
    },
    "colab": {
      "name": "malaria Detection.ipynb",
      "provenance": [],
      "collapsed_sections": []
    },
    "accelerator": "GPU"
  },
  "cells": [
    {
      "cell_type": "markdown",
      "metadata": {
        "id": "rYKfcjWBaAA4",
        "colab_type": "text"
      },
      "source": [
        "# Kaggle Setup"
      ]
    },
    {
      "cell_type": "code",
      "metadata": {
        "id": "K4xaTKmfbZpL",
        "colab_type": "code",
        "colab": {}
      },
      "source": [
        "from google.colab import drive\n",
        "drive.mount('/content/drive')"
      ],
      "execution_count": null,
      "outputs": []
    },
    {
      "cell_type": "code",
      "metadata": {
        "id": "zaKrJDEEUSWF",
        "colab_type": "code",
        "colab": {
          "base_uri": "https://localhost:8080/",
          "height": 231
        },
        "outputId": "308a539c-9a84-4d3c-e9b1-9a9d63356bcd"
      },
      "source": [
        "!pip install kaggle"
      ],
      "execution_count": null,
      "outputs": [
        {
          "output_type": "stream",
          "text": [
            "Requirement already satisfied: kaggle in /usr/local/lib/python3.6/dist-packages (1.5.6)\n",
            "Requirement already satisfied: requests in /usr/local/lib/python3.6/dist-packages (from kaggle) (2.23.0)\n",
            "Requirement already satisfied: tqdm in /usr/local/lib/python3.6/dist-packages (from kaggle) (4.41.1)\n",
            "Requirement already satisfied: python-dateutil in /usr/local/lib/python3.6/dist-packages (from kaggle) (2.8.1)\n",
            "Requirement already satisfied: urllib3<1.25,>=1.21.1 in /usr/local/lib/python3.6/dist-packages (from kaggle) (1.24.3)\n",
            "Requirement already satisfied: certifi in /usr/local/lib/python3.6/dist-packages (from kaggle) (2020.6.20)\n",
            "Requirement already satisfied: python-slugify in /usr/local/lib/python3.6/dist-packages (from kaggle) (4.0.0)\n",
            "Requirement already satisfied: six>=1.10 in /usr/local/lib/python3.6/dist-packages (from kaggle) (1.12.0)\n",
            "Requirement already satisfied: idna<3,>=2.5 in /usr/local/lib/python3.6/dist-packages (from requests->kaggle) (2.9)\n",
            "Requirement already satisfied: chardet<4,>=3.0.2 in /usr/local/lib/python3.6/dist-packages (from requests->kaggle) (3.0.4)\n",
            "Requirement already satisfied: text-unidecode>=1.3 in /usr/local/lib/python3.6/dist-packages (from python-slugify->kaggle) (1.3)\n"
          ],
          "name": "stdout"
        }
      ]
    },
    {
      "cell_type": "code",
      "metadata": {
        "id": "qRuMNW3zWOuf",
        "colab_type": "code",
        "colab": {}
      },
      "source": [
        "!mkdir .kaggle"
      ],
      "execution_count": null,
      "outputs": []
    },
    {
      "cell_type": "code",
      "metadata": {
        "id": "XV2KD8E_WRru",
        "colab_type": "code",
        "colab": {
          "base_uri": "https://localhost:8080/",
          "height": 34
        },
        "outputId": "6206734d-0d99-4dc5-8d16-bdb917a29897"
      },
      "source": [
        "!ls"
      ],
      "execution_count": null,
      "outputs": [
        {
          "output_type": "stream",
          "text": [
            "drive  sample_data\n"
          ],
          "name": "stdout"
        }
      ]
    },
    {
      "cell_type": "code",
      "metadata": {
        "id": "OW354t4iWUu_",
        "colab_type": "code",
        "colab": {}
      },
      "source": [
        "import json\n",
        "token = {'username':'username','key':'*************'}\n",
        "with open('/content/.kaggle/kaggle.json', 'w') as file:\n",
        "    json.dump(token, file)"
      ],
      "execution_count": null,
      "outputs": []
    },
    {
      "cell_type": "code",
      "metadata": {
        "id": "MIFoFdtlWsZ7",
        "colab_type": "code",
        "colab": {}
      },
      "source": [
        "!cp /content/.kaggle/kaggle.json ~/.kaggle/kaggle.json"
      ],
      "execution_count": null,
      "outputs": []
    },
    {
      "cell_type": "code",
      "metadata": {
        "id": "2RWKn7MNW4VO",
        "colab_type": "code",
        "colab": {
          "base_uri": "https://localhost:8080/",
          "height": 72
        },
        "outputId": "9a2b9ef6-ae83-4c87-e429-6eacd7eb9c0d"
      },
      "source": [
        "!kaggle config set -n path -v{/content}"
      ],
      "execution_count": null,
      "outputs": [
        {
          "output_type": "stream",
          "text": [
            "Warning: Your Kaggle API key is readable by other users on this system! To fix this, you can run 'chmod 600 /root/.kaggle/kaggle.json'\n",
            "- path is now set to: {/content}\n"
          ],
          "name": "stdout"
        }
      ]
    },
    {
      "cell_type": "code",
      "metadata": {
        "id": "fLl3H0d1W9uz",
        "colab_type": "code",
        "colab": {}
      },
      "source": [
        "!chmod 600 /root/.kaggle/kaggle.json"
      ],
      "execution_count": null,
      "outputs": []
    },
    {
      "cell_type": "code",
      "metadata": {
        "id": "o5xxkvaJXH5W",
        "colab_type": "code",
        "colab": {
          "base_uri": "https://localhost:8080/",
          "height": 70
        },
        "outputId": "304e20c0-6d18-4a4d-afc0-d1e9030966f2"
      },
      "source": [
        "!kaggle datasets download -d iarunava/cell-images-for-detecting-malaria -p /content"
      ],
      "execution_count": null,
      "outputs": [
        {
          "output_type": "stream",
          "text": [
            "Downloading cell-images-for-detecting-malaria.zip to /content\n",
            " 99% 671M/675M [00:07<00:00, 130MB/s]\n",
            "100% 675M/675M [00:07<00:00, 96.4MB/s]\n"
          ],
          "name": "stdout"
        }
      ]
    },
    {
      "cell_type": "code",
      "metadata": {
        "id": "a11XQ6I7Xk_0",
        "colab_type": "code",
        "colab": {}
      },
      "source": [
        "!unzip \\*.zip"
      ],
      "execution_count": null,
      "outputs": []
    },
    {
      "cell_type": "code",
      "metadata": {
        "id": "TEYFj2C6YGUT",
        "colab_type": "code",
        "colab": {
          "base_uri": "https://localhost:8080/",
          "height": 35
        },
        "outputId": "4ac007a3-1c52-479a-c7fa-5bee3f14d8a2"
      },
      "source": [
        "import os\n",
        "os.listdir('/content/cell_images/cell_images/Parasitized')[1]"
      ],
      "execution_count": null,
      "outputs": [
        {
          "output_type": "execute_result",
          "data": {
            "application/vnd.google.colaboratory.intrinsic": {
              "type": "string"
            },
            "text/plain": [
              "'C140P101ThinF_IMG_20151005_211735_cell_150.png'"
            ]
          },
          "metadata": {
            "tags": []
          },
          "execution_count": 18
        }
      ]
    },
    {
      "cell_type": "code",
      "metadata": {
        "id": "CZOYsZhGZBAf",
        "colab_type": "code",
        "colab": {
          "base_uri": "https://localhost:8080/",
          "height": 35
        },
        "outputId": "1ec9cec7-6e31-4f99-a594-84605ead1e98"
      },
      "source": [
        "os.listdir('/content/cell_images/Parasitized')[1]"
      ],
      "execution_count": null,
      "outputs": [
        {
          "output_type": "execute_result",
          "data": {
            "application/vnd.google.colaboratory.intrinsic": {
              "type": "string"
            },
            "text/plain": [
              "'C140P101ThinF_IMG_20151005_211735_cell_150.png'"
            ]
          },
          "metadata": {
            "tags": []
          },
          "execution_count": 19
        }
      ]
    },
    {
      "cell_type": "code",
      "metadata": {
        "id": "54hyyEvFZMES",
        "colab_type": "code",
        "colab": {}
      },
      "source": [
        ""
      ],
      "execution_count": null,
      "outputs": []
    },
    {
      "cell_type": "markdown",
      "metadata": {
        "id": "g_cNBV4KaIjl",
        "colab_type": "text"
      },
      "source": [
        "# Data setup"
      ]
    },
    {
      "cell_type": "code",
      "metadata": {
        "_uuid": "d629ff2d2480ee46fbb7e2d37f6b5fab8052498a",
        "_cell_guid": "79c7e3d0-c299-4dcb-8224-4455121ee9b0",
        "trusted": true,
        "id": "gWq6HaoHZd2j",
        "colab_type": "code",
        "colab": {}
      },
      "source": [
        "import tensorflow as tf\n",
        "import numpy as np\n",
        "import matplotlib.pyplot as plt"
      ],
      "execution_count": null,
      "outputs": []
    },
    {
      "cell_type": "code",
      "metadata": {
        "trusted": true,
        "id": "EpVIYcpZZd2s",
        "colab_type": "code",
        "colab": {}
      },
      "source": [
        "from tensorflow.keras.preprocessing.image import ImageDataGenerator"
      ],
      "execution_count": null,
      "outputs": []
    },
    {
      "cell_type": "code",
      "metadata": {
        "trusted": true,
        "id": "LDlKcK2HZd24",
        "colab_type": "code",
        "colab": {
          "base_uri": "https://localhost:8080/",
          "height": 34
        },
        "outputId": "0730c450-b1ff-45e1-e803-3c42bd04adbb"
      },
      "source": [
        "os.listdir('/content/cell_images/cell_images')"
      ],
      "execution_count": null,
      "outputs": [
        {
          "output_type": "execute_result",
          "data": {
            "text/plain": [
              "['Uninfected', 'Parasitized']"
            ]
          },
          "metadata": {
            "tags": []
          },
          "execution_count": 22
        }
      ]
    },
    {
      "cell_type": "code",
      "metadata": {
        "trusted": true,
        "id": "wi7k4VBMZd3D",
        "colab_type": "code",
        "colab": {}
      },
      "source": [
        "pos_list = os.listdir('/content/cell_images/cell_images/Parasitized')"
      ],
      "execution_count": null,
      "outputs": []
    },
    {
      "cell_type": "code",
      "metadata": {
        "trusted": true,
        "id": "MNX1O6UwZd3M",
        "colab_type": "code",
        "colab": {}
      },
      "source": [
        "neg_list = os.listdir('/content/cell_images/cell_images/Uninfected')"
      ],
      "execution_count": null,
      "outputs": []
    },
    {
      "cell_type": "code",
      "metadata": {
        "trusted": true,
        "id": "_7USrFAPZd3T",
        "colab_type": "code",
        "colab": {
          "base_uri": "https://localhost:8080/",
          "height": 52
        },
        "outputId": "c2785c4e-fce2-4a21-c138-a15f2372a861"
      },
      "source": [
        "print(len(pos_list))\n",
        "print(len(neg_list))"
      ],
      "execution_count": null,
      "outputs": [
        {
          "output_type": "stream",
          "text": [
            "13780\n",
            "13780\n"
          ],
          "name": "stdout"
        }
      ]
    },
    {
      "cell_type": "code",
      "metadata": {
        "trusted": true,
        "id": "pD64akO4Zd3f",
        "colab_type": "code",
        "colab": {}
      },
      "source": [
        "base = '/content/base'\n"
      ],
      "execution_count": null,
      "outputs": []
    },
    {
      "cell_type": "code",
      "metadata": {
        "trusted": true,
        "id": "NdON5gYhZd3o",
        "colab_type": "code",
        "colab": {}
      },
      "source": [
        "!mkdir '/content/base'"
      ],
      "execution_count": null,
      "outputs": []
    },
    {
      "cell_type": "code",
      "metadata": {
        "trusted": true,
        "id": "9qJRGAaWZd30",
        "colab_type": "code",
        "colab": {}
      },
      "source": [
        "train='/content/base/train'\n",
        "os.mkdir(train)"
      ],
      "execution_count": null,
      "outputs": []
    },
    {
      "cell_type": "code",
      "metadata": {
        "trusted": true,
        "id": "RfS-sk4kZd39",
        "colab_type": "code",
        "colab": {}
      },
      "source": [
        "valid = '/content/base/valid'\n",
        "os.mkdir(valid)"
      ],
      "execution_count": null,
      "outputs": []
    },
    {
      "cell_type": "code",
      "metadata": {
        "trusted": true,
        "id": "IiLjlCxBZd4J",
        "colab_type": "code",
        "colab": {}
      },
      "source": [
        "train_pos = '/content/base/train/Parasitized'\n",
        "train_neg  = '/content/base/train/Uninfected'\n",
        "os.mkdir(train_pos)\n",
        "os.mkdir(train_neg)"
      ],
      "execution_count": null,
      "outputs": []
    },
    {
      "cell_type": "code",
      "metadata": {
        "trusted": true,
        "id": "P18ImweuZd4T",
        "colab_type": "code",
        "colab": {}
      },
      "source": [
        "valid_pos=('/content/base/valid/Parasitized')\n",
        "valid_neg=('/content/base/valid/Uninfected')\n",
        "os.mkdir(valid_pos)\n",
        "os.mkdir(valid_neg)"
      ],
      "execution_count": null,
      "outputs": []
    },
    {
      "cell_type": "code",
      "metadata": {
        "trusted": true,
        "id": "LmzkuUKgZd5c",
        "colab_type": "code",
        "colab": {}
      },
      "source": [
        "from sklearn.model_selection import train_test_split"
      ],
      "execution_count": null,
      "outputs": []
    },
    {
      "cell_type": "code",
      "metadata": {
        "trusted": true,
        "id": "PLhAlCxTZd5k",
        "colab_type": "code",
        "colab": {}
      },
      "source": [
        "pos_train, pos_valid = train_test_split(pos_list,test_size=0.3)"
      ],
      "execution_count": null,
      "outputs": []
    },
    {
      "cell_type": "code",
      "metadata": {
        "trusted": true,
        "id": "JWlGfSlkZd5w",
        "colab_type": "code",
        "colab": {}
      },
      "source": [
        "neg_train, neg_valid = train_test_split(neg_list,test_size=0.3)"
      ],
      "execution_count": null,
      "outputs": []
    },
    {
      "cell_type": "code",
      "metadata": {
        "id": "6i83TSNMnKSC",
        "colab_type": "code",
        "colab": {
          "base_uri": "https://localhost:8080/",
          "height": 87
        },
        "outputId": "e236082a-0458-48d5-a011-2d8a902423b5"
      },
      "source": [
        "print(len(pos_train))\n",
        "print(len(pos_valid))\n",
        "print(len(neg_train))\n",
        "print(len(neg_valid))"
      ],
      "execution_count": null,
      "outputs": [
        {
          "output_type": "stream",
          "text": [
            "9646\n",
            "4134\n",
            "9646\n",
            "4134\n"
          ],
          "name": "stdout"
        }
      ]
    },
    {
      "cell_type": "code",
      "metadata": {
        "trusted": true,
        "id": "HOIYuqsqZd55",
        "colab_type": "code",
        "colab": {}
      },
      "source": [
        "from shutil import copyfile"
      ],
      "execution_count": null,
      "outputs": []
    },
    {
      "cell_type": "code",
      "metadata": {
        "trusted": true,
        "id": "DTG70xZ1Zd5_",
        "colab_type": "code",
        "colab": {}
      },
      "source": [
        "def label_data(train_list,valid_list,DEST_train,DEST_valid,name):\n",
        "    for i in train_list:\n",
        "        copyfile(os.path.join(name,i),DEST_train + '/' + i)\n",
        "    \n",
        "    for j in valid_list:\n",
        "        copyfile(os.path.join(name,j),DEST_valid+ '/' + j)\n",
        "    "
      ],
      "execution_count": null,
      "outputs": []
    },
    {
      "cell_type": "code",
      "metadata": {
        "trusted": true,
        "id": "WGuMpaEHZd6K",
        "colab_type": "code",
        "colab": {}
      },
      "source": [
        "name1 = '/content/cell_images/cell_images/Parasitized'\n",
        "name2  = '/content/cell_images/cell_images/Uninfected'"
      ],
      "execution_count": null,
      "outputs": []
    },
    {
      "cell_type": "code",
      "metadata": {
        "trusted": true,
        "id": "ZSp02ivVZd6P",
        "colab_type": "code",
        "colab": {}
      },
      "source": [
        "pos = label_data(pos_train,pos_valid,train_pos,valid_pos,name1)"
      ],
      "execution_count": null,
      "outputs": []
    },
    {
      "cell_type": "code",
      "metadata": {
        "trusted": true,
        "id": "SI9w82eIZd6V",
        "colab_type": "code",
        "colab": {}
      },
      "source": [
        "neg = label_data(neg_train,neg_valid,train_neg,valid_neg,name2)"
      ],
      "execution_count": null,
      "outputs": []
    },
    {
      "cell_type": "code",
      "metadata": {
        "trusted": true,
        "id": "FeAsbbW0Zd6h",
        "colab_type": "code",
        "colab": {
          "base_uri": "https://localhost:8080/",
          "height": 52
        },
        "outputId": "65edb920-b370-4fff-cbf9-7d1d2fbf5eca"
      },
      "source": [
        "os.listdir(valid_pos)[0:2]"
      ],
      "execution_count": null,
      "outputs": [
        {
          "output_type": "execute_result",
          "data": {
            "text/plain": [
              "['C101P62ThinF_IMG_20150918_151507_cell_51.png',\n",
              " 'C91P52ThinF_IMG_20150821_124739_cell_193.png']"
            ]
          },
          "metadata": {
            "tags": []
          },
          "execution_count": 53
        }
      ]
    },
    {
      "cell_type": "markdown",
      "metadata": {
        "id": "DEnz_714aQRe",
        "colab_type": "text"
      },
      "source": [
        "# TF Model "
      ]
    },
    {
      "cell_type": "code",
      "metadata": {
        "trusted": true,
        "id": "4IaNpvzoZd6z",
        "colab_type": "code",
        "colab": {}
      },
      "source": [
        "train_datagen = ImageDataGenerator(rescale=1.0/255.0,rotation_range=40,height_shift_range=0.2,\n",
        "                                   width_shift_range=0.2,shear_range=0.2,zoom_range=0.2,\n",
        "                                 horizontal_flip=True,fill_mode='nearest')\n",
        "valid_datagen = ImageDataGenerator(rescale=1.0/255.0)"
      ],
      "execution_count": null,
      "outputs": []
    },
    {
      "cell_type": "code",
      "metadata": {
        "trusted": true,
        "id": "O6pXbKPtZd7C",
        "colab_type": "code",
        "colab": {
          "base_uri": "https://localhost:8080/",
          "height": 52
        },
        "outputId": "b0d0632d-d1d5-4a84-cee8-261d803e3f8b"
      },
      "source": [
        "train_gen = train_datagen.flow_from_directory(train,target_size =(300,300),batch_size=64,class_mode='binary')\n",
        "valid_gen = valid_datagen.flow_from_directory(valid,target_size =(300,300),batch_size=64,class_mode='binary')"
      ],
      "execution_count": null,
      "outputs": [
        {
          "output_type": "stream",
          "text": [
            "Found 25874 images belonging to 2 classes.\n",
            "Found 12095 images belonging to 2 classes.\n"
          ],
          "name": "stdout"
        }
      ]
    },
    {
      "cell_type": "code",
      "metadata": {
        "trusted": true,
        "id": "oPGXn9MFZd7O",
        "colab_type": "code",
        "colab": {}
      },
      "source": [
        "from tensorflow.keras.applications.inception_v3 import InceptionV3\n",
        "pre_trained_model = InceptionV3(input_shape=(300,300,3),include_top=False,weights='imagenet')"
      ],
      "execution_count": null,
      "outputs": []
    },
    {
      "cell_type": "code",
      "metadata": {
        "trusted": true,
        "id": "86tRcrvCZd7d",
        "colab_type": "code",
        "colab": {}
      },
      "source": [
        "for layer in pre_trained_model.layers:\n",
        "    layer.trainable = False"
      ],
      "execution_count": null,
      "outputs": []
    },
    {
      "cell_type": "code",
      "metadata": {
        "trusted": true,
        "id": "0WzW5AldZd7m",
        "colab_type": "code",
        "colab": {
          "base_uri": "https://localhost:8080/",
          "height": 34
        },
        "outputId": "70346fd5-3540-4520-bb0d-b9d5c02a4d04"
      },
      "source": [
        "last_layer = pre_trained_model.get_layer('mixed7')\n",
        "last_output = last_layer.output\n",
        "last_layer.output_shape"
      ],
      "execution_count": null,
      "outputs": [
        {
          "output_type": "execute_result",
          "data": {
            "text/plain": [
              "(None, 17, 17, 768)"
            ]
          },
          "metadata": {
            "tags": []
          },
          "execution_count": 58
        }
      ]
    },
    {
      "cell_type": "code",
      "metadata": {
        "trusted": true,
        "id": "Bo5jbyogZd7v",
        "colab_type": "code",
        "colab": {}
      },
      "source": [
        "# model creation\n",
        "activation='relu'\n",
        "\n",
        "model1 = tf.keras.models.Sequential()\n",
        "model1.add(tf.keras.layers.Conv2D(64,(5,5),activation=activation,input_shape=(300,300,3)))\n",
        "model1.add(tf.keras.layers.MaxPooling2D(2,2))\n",
        "#2nd CNN\n",
        "model1.add(tf.keras.layers.Conv2D(32,(5,5),activation=activation))\n",
        "model1.add(tf.keras.layers.MaxPooling2D(2,2))\n",
        "#3rd CNN\n",
        "model1.add(tf.keras.layers.Conv2D(16,(5,5),activation=activation))\n",
        "model1.add(tf.keras.layers.MaxPooling2D(2,2))\n",
        "#4th CNN\n",
        "model1.add(tf.keras.layers.Conv2D(8,(5,5),activation=activation))\n",
        "model1.add(tf.keras.layers.MaxPooling2D(2,2))\n",
        "\n",
        "model1.add(tf.keras.layers.Flatten())\n",
        "model1.add(tf.keras.layers.BatchNormalization())\n",
        "\n",
        "model1.add(tf.keras.layers.Dense(152,activation=activation))\n",
        "model1.add(tf.keras.layers.BatchNormalization())\n",
        "\n",
        "model1.add(tf.keras.layers.Dense(152,activation=activation))\n",
        "model1.add(tf.keras.layers.BatchNormalization())\n",
        "\n",
        "model1.add(tf.keras.layers.Dense(152,activation=activation))\n",
        "model1.add(tf.keras.layers.BatchNormalization())\n",
        "\n",
        "model1.add(tf.keras.layers.Dense(1,activation='sigmoid'))"
      ],
      "execution_count": null,
      "outputs": []
    },
    {
      "cell_type": "code",
      "metadata": {
        "trusted": true,
        "id": "5uAO-dZjZd74",
        "colab_type": "code",
        "colab": {
          "base_uri": "https://localhost:8080/",
          "height": 758
        },
        "outputId": "129ff8a1-d11a-4bbc-8dee-612a5c86f5c3"
      },
      "source": [
        "model1.summary()"
      ],
      "execution_count": null,
      "outputs": [
        {
          "output_type": "stream",
          "text": [
            "Model: \"sequential\"\n",
            "_________________________________________________________________\n",
            "Layer (type)                 Output Shape              Param #   \n",
            "=================================================================\n",
            "conv2d_188 (Conv2D)          (None, 296, 296, 64)      4864      \n",
            "_________________________________________________________________\n",
            "max_pooling2d_8 (MaxPooling2 (None, 148, 148, 64)      0         \n",
            "_________________________________________________________________\n",
            "conv2d_189 (Conv2D)          (None, 144, 144, 32)      51232     \n",
            "_________________________________________________________________\n",
            "max_pooling2d_9 (MaxPooling2 (None, 72, 72, 32)        0         \n",
            "_________________________________________________________________\n",
            "conv2d_190 (Conv2D)          (None, 68, 68, 16)        12816     \n",
            "_________________________________________________________________\n",
            "max_pooling2d_10 (MaxPooling (None, 34, 34, 16)        0         \n",
            "_________________________________________________________________\n",
            "conv2d_191 (Conv2D)          (None, 30, 30, 8)         3208      \n",
            "_________________________________________________________________\n",
            "max_pooling2d_11 (MaxPooling (None, 15, 15, 8)         0         \n",
            "_________________________________________________________________\n",
            "flatten (Flatten)            (None, 1800)              0         \n",
            "_________________________________________________________________\n",
            "batch_normalization_188 (Bat (None, 1800)              7200      \n",
            "_________________________________________________________________\n",
            "dense (Dense)                (None, 152)               273752    \n",
            "_________________________________________________________________\n",
            "batch_normalization_189 (Bat (None, 152)               608       \n",
            "_________________________________________________________________\n",
            "dense_1 (Dense)              (None, 152)               23256     \n",
            "_________________________________________________________________\n",
            "batch_normalization_190 (Bat (None, 152)               608       \n",
            "_________________________________________________________________\n",
            "dense_2 (Dense)              (None, 152)               23256     \n",
            "_________________________________________________________________\n",
            "batch_normalization_191 (Bat (None, 152)               608       \n",
            "_________________________________________________________________\n",
            "dense_3 (Dense)              (None, 1)                 153       \n",
            "=================================================================\n",
            "Total params: 401,561\n",
            "Trainable params: 397,049\n",
            "Non-trainable params: 4,512\n",
            "_________________________________________________________________\n"
          ],
          "name": "stdout"
        }
      ]
    },
    {
      "cell_type": "code",
      "metadata": {
        "trusted": true,
        "id": "45S3ab57Zd8E",
        "colab_type": "code",
        "colab": {}
      },
      "source": [
        "optimizer='adam'\n",
        "loss = 'binary_crossentropy'\n",
        "metrics=['accuracy']\n",
        "model1.compile(optimizer=optimizer,loss=loss,metrics=metrics)"
      ],
      "execution_count": null,
      "outputs": []
    },
    {
      "cell_type": "code",
      "metadata": {
        "trusted": true,
        "id": "A0RhAmPLZd8N",
        "colab_type": "code",
        "colab": {}
      },
      "source": [
        "class mycallback(tf.keras.callbacks.Callback):\n",
        "    def on_epoch_end(self,epoch,logs={}):\n",
        "        if(logs.get('accuracy')>0.92):\n",
        "            print('Achieved 92% accuracy')\n",
        "            self.model.stop_training=True\n",
        "callback = mycallback()\n",
        "    "
      ],
      "execution_count": null,
      "outputs": []
    },
    {
      "cell_type": "code",
      "metadata": {
        "trusted": true,
        "id": "44AroM1nZd8R",
        "colab_type": "code",
        "colab": {
          "base_uri": "https://localhost:8080/",
          "height": 655
        },
        "outputId": "227f4431-d339-4e6a-bcad-71a189e0adad"
      },
      "source": [
        "history = model1.fit(train_gen,epochs=20,verbose=1,validation_data=valid_gen,steps_per_epoch=80,callbacks=[callback],use_multiprocessing=False,workers=16)"
      ],
      "execution_count": null,
      "outputs": [
        {
          "output_type": "stream",
          "text": [
            "Epoch 1/20\n",
            "80/80 [==============================] - 116s 1s/step - loss: 0.4230 - accuracy: 0.8163 - val_loss: 0.3478 - val_accuracy: 0.8614\n",
            "Epoch 2/20\n",
            "80/80 [==============================] - 117s 1s/step - loss: 0.3545 - accuracy: 0.8555 - val_loss: 1.0784 - val_accuracy: 0.7773\n",
            "Epoch 3/20\n",
            "80/80 [==============================] - 117s 1s/step - loss: 0.2884 - accuracy: 0.8895 - val_loss: 0.1953 - val_accuracy: 0.9308\n",
            "Epoch 4/20\n",
            "80/80 [==============================] - 116s 1s/step - loss: 0.2828 - accuracy: 0.8995 - val_loss: 0.2631 - val_accuracy: 0.9172\n",
            "Epoch 5/20\n",
            "80/80 [==============================] - 117s 1s/step - loss: 0.2792 - accuracy: 0.9000 - val_loss: 0.6306 - val_accuracy: 0.5288\n",
            "Epoch 6/20\n",
            "80/80 [==============================] - 117s 1s/step - loss: 0.2808 - accuracy: 0.9054 - val_loss: 0.2416 - val_accuracy: 0.9252\n",
            "Epoch 7/20\n",
            "80/80 [==============================] - 117s 1s/step - loss: 0.2961 - accuracy: 0.8945 - val_loss: 0.3790 - val_accuracy: 0.8710\n",
            "Epoch 8/20\n",
            "80/80 [==============================] - 118s 1s/step - loss: 0.2705 - accuracy: 0.9084 - val_loss: 0.2698 - val_accuracy: 0.9392\n",
            "Epoch 9/20\n",
            "80/80 [==============================] - 117s 1s/step - loss: 0.2590 - accuracy: 0.9111 - val_loss: 0.2239 - val_accuracy: 0.9462\n",
            "Epoch 10/20\n",
            "80/80 [==============================] - 118s 1s/step - loss: 0.2572 - accuracy: 0.9107 - val_loss: 0.2027 - val_accuracy: 0.9496\n",
            "Epoch 11/20\n",
            "80/80 [==============================] - 118s 1s/step - loss: 0.2445 - accuracy: 0.9174 - val_loss: 0.2040 - val_accuracy: 0.9406\n",
            "Epoch 12/20\n",
            "80/80 [==============================] - 118s 1s/step - loss: 0.2493 - accuracy: 0.9131 - val_loss: 0.1737 - val_accuracy: 0.9385\n",
            "Epoch 13/20\n",
            "80/80 [==============================] - 120s 2s/step - loss: 0.2430 - accuracy: 0.9151 - val_loss: 0.1706 - val_accuracy: 0.9445\n",
            "Epoch 14/20\n",
            "80/80 [==============================] - 121s 2s/step - loss: 0.2475 - accuracy: 0.9195 - val_loss: 0.2609 - val_accuracy: 0.9159\n",
            "Epoch 15/20\n",
            "80/80 [==============================] - 121s 2s/step - loss: 0.2569 - accuracy: 0.9090 - val_loss: 0.1697 - val_accuracy: 0.9533\n",
            "Epoch 16/20\n",
            "80/80 [==============================] - 121s 2s/step - loss: 0.2463 - accuracy: 0.9145 - val_loss: 0.1749 - val_accuracy: 0.9474\n",
            "Epoch 17/20\n",
            "80/80 [==============================] - ETA: 0s - loss: 0.2312 - accuracy: 0.9209Achieved 92% accuracy\n",
            "80/80 [==============================] - 121s 2s/step - loss: 0.2312 - accuracy: 0.9209 - val_loss: 0.4298 - val_accuracy: 0.8402\n"
          ],
          "name": "stdout"
        }
      ]
    },
    {
      "cell_type": "code",
      "metadata": {
        "id": "8hXw-ugf-yCy",
        "colab_type": "code",
        "colab": {}
      },
      "source": [
        ""
      ],
      "execution_count": null,
      "outputs": []
    }
  ]
}